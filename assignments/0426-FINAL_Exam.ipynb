{
 "cells": [
  {
   "cell_type": "markdown",
   "metadata": {},
   "source": [
    "# CMSE 401 - Spring 2021 Final Exam\n",
    "This is an open Internet exam.  Feel free to use anything on the Internet with one important exception...\n",
    "\n",
    "- **DO NOT** communicate live with other people during the exam (either verbally or on-line).  The goal here is to find answers to problems as you would in the real world.  \n",
    "\n",
    "You will be given **60 minutes (wishful thinking by the instructor, you will be given the entire exam time if needed)** to complete this Exam.  Use your time wisely. \n",
    "\n",
    "**HINTS:**\n",
    "- Neatness and grammar is important.  We will ignore all notes or code we can not read or understand.\n",
    "- Read the entire exam from beginning to end before starting.  Not all questions are equal in points vs. time so plan your time accordingly.   \n",
    "- Some of the information provided my be a distraction. Do not assume you need to understand everything written to answer the questions. \n",
    "- Spaces for answers are provided. Delete the prompting text such as \"Put your answer to the above question here\" and replace it with your answer. Do not leave the prompting text with your answer.\n",
    "- Do not assume that the answer must be in the same format of the cell provided. Feel free to change the cell formatting (ex. markdown to code) or add additional cells as needed to provide your answer.\n",
    "- When a questions asks for an answer \"**in your own words**\" it is still okay to search the Internet for the answer as a reminder, however, we would like you to do more than cut and paste.  Make the answer your own and still provide references. \n",
    "- If you get stuck, try not to leave an answer blank. It is better to include some notes or stub functions so we have an idea about your thinking process so we can give you partial credit.   \n",
    "- Always provided links to any references you find helpful. \n",
    "- Feel free to delete the provided check marks (&#9989;) as a way to keep track of which questions you have successfully completed. \n",
    "\n"
   ]
  },
  {
   "cell_type": "markdown",
   "metadata": {},
   "source": [
    "# Honor Code\n",
    "\n",
    "I, agree to neither give nor receive any help on this exam from other people.  I also understand that providing answers to questions on this exam to other students is also an academic misconduct violation as is live communication or receiving answers to questions on this exam from other people. It is important to me to be a person of integrity and that means that ALL ANSWERS on this exam are my answers.\n",
    "\n",
    "&#9989; **<font color=red>DO THIS:</font>** Include your name in the line below to acknowledge the above statement:"
   ]
  },
  {
   "cell_type": "markdown",
   "metadata": {},
   "source": [
    "> Put your name here."
   ]
  },
  {
   "cell_type": "markdown",
   "metadata": {},
   "source": [
    "### Exam Summary\n",
    "1. (20 points) [Unrolling Loops](#Q1)\n",
    "2. (20 points) [FFTW](#Q2)\n",
    "2. (20 points) [2D Wave Equation](#Q3)\n",
    "3. (20 points) [Multiple Accelerators](#Q4)\n",
    "3. (20 points) [Agent Based Economic Simulator](#Q5)"
   ]
  },
  {
   "cell_type": "markdown",
   "metadata": {},
   "source": [
    "---\n",
    "<a name=\"Q1\"></a>\n",
    "# Question 1 - (20 points) Unrolling Loops\n",
    "\n",
    "<img src=\"https://innovativegenomics.org/wp-content/uploads/2020/04/Virions.png\" alt=\"Image of the COVID-19 virus. Not really needed I just wanted a motivating picture\" width=\"60%\">\n",
    "\n",
    "> Image from https://innovativegenomics.org/free-covid-19-illustrations/\n",
    "\n",
    "\n",
    "The following is a simple python program (called ```runlevelsim.py```) that runs the ```levelsim.analysis``` function 100 times (NOTE: ```levelsim``` is a program made up by your instructor and any relationship to an existing program of the same or similar name is just a coincidence). \n",
    "\n",
    "```python\n",
    "import levelsim as ls\n",
    "import sys\n",
    "\n",
    "# Run the level simulator starting from 100 different input states.\n",
    "for i in range(0,100):\n",
    "    print(f\"Running simulation with {i} input\")\n",
    "    ls.analysis(i)\n",
    "```\n",
    "\n",
    "Each iteration of the loop is independent and takes around 2 hours and 23 minutes to run (the entire program takes ~9.9 days).  Instead of the loop we would like to speed up the program and run it using a job array. \n",
    "\n",
    "\n"
   ]
  },
  {
   "cell_type": "markdown",
   "metadata": {},
   "source": [
    "&#9989; **<font color=red>Question 1.a</font>**:  Modify the above python program to the unroll the loop and pass in the ```i``` variable as an input argument such that the program can be run as follows:\n",
    "\n",
    "    python runlevelsim.py 45\n",
    "    \n",
    "Where 45 is just the input number passed in as a string.  "
   ]
  },
  {
   "cell_type": "markdown",
   "metadata": {},
   "source": [
    "<font color=red>Put the answer to the above question here</font>"
   ]
  },
  {
   "cell_type": "markdown",
   "metadata": {},
   "source": [
    "&#9989; **<font color=red>Question 1.b</font>**: Modify the following SLURM submission script (used by the original python program) to now run the unrolled loop as a pleasently parallel job array. "
   ]
  },
  {
   "cell_type": "markdown",
   "metadata": {},
   "source": [
    "<font color=red>Put the answer to the above question here</font>"
   ]
  },
  {
   "cell_type": "markdown",
   "metadata": {},
   "source": [
    "```bash\n",
    "#!/bin/bash\n",
    "#SBATCh -N 1\n",
    "#SBATCH -c 1\n",
    "#SBATCH -mem=500mb\n",
    "#SBATCH --time=240:00:00\n",
    "\n",
    "time python runlevelsim.py \n",
    "```"
   ]
  },
  {
   "cell_type": "markdown",
   "metadata": {},
   "source": [
    "&#9989; **<font color=red>Question 1.c</font>**: What is the best possible time for the entire job array to run. Explain the situation when this optimal solution is achieved. "
   ]
  },
  {
   "cell_type": "markdown",
   "metadata": {},
   "source": [
    "<font color=red>Put the answer to the above question here</font>"
   ]
  },
  {
   "cell_type": "markdown",
   "metadata": {},
   "source": [
    "&#9989; **<font color=red>Question 1.d</font>**: Now assume the ```levelsim``` library has been updated using ```numba``` and is using a parallel jit function on its main internal loop of the anaysis function.  When the updated function is run with an optimal 4 processors (as determined by timing studies) the entire code is speed up by 68%.  Write a new submission script that will support this new function by:\n",
    "1. requesting 4 shared memory cpus for each job in the array\n",
    "2. running the python script inside of srun \n",
    "3. requesting less time to account for the increase in speed."
   ]
  },
  {
   "cell_type": "markdown",
   "metadata": {},
   "source": [
    "<font color=red>Copy and paste your script from above and modify to use shared memory parallel</font>"
   ]
  },
  {
   "cell_type": "markdown",
   "metadata": {},
   "source": [
    "----\n",
    "<a name=\"Q2\"></a>\n",
    "# Question 2 - (20 points) FFTW\n",
    "\n",
    "<img alt=\"Fastest Fourier Transform in the West (FFTW) Logo\" src=\"https://upload.wikimedia.org/wikipedia/commons/b/b8/Fftw-logo-med.gif\">\n",
    "\n",
    "- [Fastest Fourier Transform in the West (FFTW)](http://fftw.org/)\n",
    "\n",
    "> FFTW is a C subroutine library for computing the Discrete Fourier Transform (DFT) in one or more dimensions, of arbitrary input size, and of both real and complex data.  The Fourier Transform is used in a wide variety of scientific applications and many projects depend on FFTW.  \n"
   ]
  },
  {
   "cell_type": "markdown",
   "metadata": {},
   "source": [
    "**<font color=red>Question 2.a:</font>** What module command would you use on the HPCC to determine which versions of FFTW are installed?"
   ]
  },
  {
   "cell_type": "markdown",
   "metadata": {},
   "source": [
    "<font color=red>Put the answer to the above question here</font>"
   ]
  },
  {
   "cell_type": "markdown",
   "metadata": {},
   "source": [
    "**<font color=red>Question 2.b:</font>** What gcc compiler command line is needed to link in the FFTW libraries?"
   ]
  },
  {
   "cell_type": "markdown",
   "metadata": {},
   "source": [
    "<font color=red>Put the answer to the above question here</font>"
   ]
  },
  {
   "cell_type": "markdown",
   "metadata": {},
   "source": [
    "**<font color=red>Question 2.c:</font>**  Review the FFTW library documentation and determine if it is already has support for running in parallel. Specifically figure out if it can use Shared Memory, Shared Network and/or GPU acceleration. Answer either yes or no for each option, explain how you came to that answer and give a reference.  "
   ]
  },
  {
   "cell_type": "markdown",
   "metadata": {},
   "source": [
    "- Shared Memory <font color=red>(yes/no): Explanation and URL reference</font>\n",
    "- Shared Network <font color=red>(yes/no): Explanation and URL reference</font>\n",
    "- GPU Acceleration <font color=red>(yes/no): Explanation and URL reference</font>"
   ]
  },
  {
   "cell_type": "markdown",
   "metadata": {},
   "source": [
    "**<font color=red>Question 2.d:</font>** Assume that a researcher has emailed you and asked you to help them debug some code that they have modified in some way to run using FFTW in parallel.  However, every time they run the code in parallel it takes much longer than it does in serial (with the same calculation).  Given that you know almost nothing about the details of the code, can you give the researcher three reasons why their code might be slower. **_HINT:_** Try to make different reasons other than variations on the same idea. In other words try to come up with helpful ideas they can use to isolate and maybe even fix the problem. Provide your answer as a response email (you can use the template below).  Give your three reasons and, if you can, include a question or a test the researcher can run that you think would help isolate the problem.  "
   ]
  },
  {
   "cell_type": "markdown",
   "metadata": {},
   "source": [
    "Dear Researcher,\n",
    "\n",
    "I am sorry you are having trouble with your program.  I can think of at least three reasons why you may be having trouble.  However, I will need a little more information to debug the problem:\n",
    "\n",
    "- Reason 1: <font color=red>Put your answer here</font>\n",
    "- Reason 2: <font color=red>Put your answer here</font>\n",
    "- Reason 3: <font color=red>Put your answer here</font>\n",
    "\n",
    "Thank you,\n",
    "\n",
    " - Your name here."
   ]
  },
  {
   "cell_type": "markdown",
   "metadata": {},
   "source": [
    "---\n",
    "<a name=\"Q3\"></a>\n",
    "\n",
    "# Question 3 - (20 points) 2D Wave Equation\n",
    "Condiser the following 2D wave equation which is very similar to the 1D equation we did in class.\n",
    "<img src=\"https://colbrydi.github.io/images/wave2d.gif\" width=30% alt=\"animated gif\">\n",
    "\n"
   ]
  },
  {
   "cell_type": "markdown",
   "metadata": {},
   "source": [
    "```c\n",
    "#include <stdio.h>\n",
    "#include <stdlib.h>\n",
    "#include <math.h>\n",
    "#include \"png_util.h\"\n",
    "#define min(X,Y) ((X) < (Y) ? (X) : (Y))\n",
    "#define max(X,Y) ((X) > (Y) ? (X) : (Y))\n",
    "\n",
    "int main(int argc, char ** argv) {\n",
    "    int nx = 500;\n",
    "    int ny = 500;\n",
    "    int nt = 100000; \n",
    "    int frame=0;\n",
    "\n",
    "    int r,c,it;\n",
    "    double dx,dy,dt;\n",
    "    double max,min;\n",
    "    double tmax;\n",
    "    double dx2inv, dy2inv;\n",
    "    char filename[sizeof \"./images/file00000.png\"];\n",
    "\n",
    "    image_size_t sz; \n",
    "    sz.width=nx;\n",
    "    sz.height=ny;\n",
    "\n",
    "    //make position grid\n",
    "    double * h_z = (double *) malloc(nx*ny*sizeof(double));\n",
    "    double ** z = malloc(ny * sizeof(double*));\n",
    "    for (r=0; r<ny; r++)\n",
    "    \tz[r] = &h_z[r*nx];\n",
    "\n",
    "    //make velocity grid\n",
    "    double * h_v = (double *) malloc(nx*ny*sizeof(double));\n",
    "    double ** v = malloc(ny * sizeof(double*));\n",
    "    for (r=0; r<ny; r++)\n",
    "        v[r] = &h_v[r*nx];\n",
    "\n",
    "    //Amake acceleration grid\n",
    "    double * h_a = (double *) malloc(nx*ny*sizeof(double));\n",
    "    double ** a = malloc(ny * sizeof(double*));\n",
    "    for (r=0; r<ny; r++)\n",
    "        a[r] = &h_a[r*nx];\n",
    "\n",
    "    //allocate space for output image\n",
    "    char * o_img = (char *) malloc(sz.width*sz.height*sizeof(char));\n",
    "    char **output = malloc(sz.height * sizeof(char*));\n",
    "    for (int r=0; r<sz.height; r++)\n",
    "        output[r] = &o_img[r*sz.width];\n",
    "\n",
    "    max=10.0;\n",
    "    min=0.0;\n",
    "    dx = (max-min)/(double)(nx-1);\n",
    "    dy = (max-min)/(double)(ny-1);\n",
    "    \n",
    "    tmax=20.0;\n",
    "    dt= (tmax-0.0)/(double)(nt-1);\n",
    "\n",
    "    double x,y; \n",
    "    for (r=0;r<ny;r++)  {\n",
    "    \tfor (c=0;c<nx;c++)  {\n",
    "\t\tx = min+(double)c*dx;\n",
    "\t\ty = min+(double)r*dy;\n",
    "        \tz[r][c] = exp(-(sqrt((x-5.0)*(x-5.0)+(y-5.0)*(y-5.0))));\n",
    "        \tv[r][c] = 0.0;\n",
    "\t        a[r][c] = 0.0;\n",
    "    \t}\n",
    "    }\n",
    "    \n",
    "    dx2inv=1.0/(dx*dx);\n",
    "    dy2inv=1.0/(dy*dy);\n",
    "\n",
    "    //Main loop\n",
    "    for(it=0;it<nt-1;it++) {\n",
    "        //update acceleration\n",
    "        for (r=1;r<ny-1;r++)  {\n",
    "    \t    for (c=1;c<nx-1;c++)  {\n",
    "                double ax = (z[r+1][c]+z[r-1][c]-2.0*z[r][c])*dx2inv;\n",
    "                double ay = (z[r][c+1]+z[r][c-1]-2.0*z[r][c])*dy2inv;\n",
    "                a[r][c] = (ax+ay)/2;\n",
    "            }\n",
    "        }\n",
    "        //update velocity and position\n",
    "        for (r=1;r<ny-1;r++)  {\n",
    "    \t    for (c=1;c<nx-1;c++)  {\n",
    "               v[r][c] = v[r][c] + dt*a[r][c];\n",
    "               z[r][c] = z[r][c] + dt*v[r][c];\n",
    "            }\n",
    "        }\n",
    "        if (it % 100 ==0)\n",
    "        {\n",
    "                double mx,mn;\n",
    "                mx = -999999;\n",
    "                mn = 999999;\n",
    "                for(r=0;r<ny;r++)\n",
    "                    for(c=0;c<nx;c++){\n",
    "                        mx = max(mx, z[r][c]);\n",
    "                        mn = min(mn, z[r][c]);\n",
    "                    }\n",
    "                for(r=0;r<ny;r++)\n",
    "                    for(c=0;c<nx;c++)\n",
    "                        output[r][c] = (char) round((z[r][c]-mn)/(mx-mn)*255);\n",
    "\n",
    "                sprintf(filename, \"./images/file%05d.png\", frame);\n",
    "                printf(\"Writing %s\\n\",filename);    \n",
    "                write_png_file(filename,o_img,sz);\n",
    "            frame+=1;\n",
    "            }\n",
    "\n",
    "        }\n",
    "    \n",
    "\n",
    "    //find the max and min values to normalize the output.\n",
    "    double mx,mn;\n",
    "    mx = -999999;\n",
    "    mn = 999999;\n",
    "    for(r=0;r<ny;r++)\n",
    "        for(c=0;c<nx;c++){\n",
    "           mx = max(mx, z[r][c]);\n",
    "           mn = min(mn, z[r][c]);\n",
    "        }\n",
    "\n",
    "    printf(\"%f, %f\\n\", mn,mx);\n",
    "\n",
    "    for(r=0;r<ny;r++)\n",
    "        for(c=0;c<nx;c++){  \n",
    "           output[r][c] = (char) round((z[r][c]-mn)/(mx-mn)*255);  \n",
    "        }\n",
    "\n",
    "    sprintf(filename, \"./images/file%05d.png\", it);\n",
    "    printf(\"Writing %s\\n\",filename);    \n",
    "    \n",
    "    //Write out output image using 1D serial pointer\n",
    "    write_png_file(filename,o_img,sz);\n",
    "    return 0;\n",
    "}\n",
    "```"
   ]
  },
  {
   "cell_type": "markdown",
   "metadata": {},
   "source": [
    "&#9989; **<font color=red>Question 3.a</font>**: Modify the above example to add an OpenMP pragma for commands to  efficiently parallelize the loops that update the position, velocity and acceleration code?  Since there are two loops (one for each dimention) you should probably include the collapes option. "
   ]
  },
  {
   "cell_type": "markdown",
   "metadata": {},
   "source": [
    "<font color=red>Put the answer to the above question here</font>"
   ]
  },
  {
   "cell_type": "markdown",
   "metadata": {},
   "source": [
    "&#9989; **<font color=red>Question 3.b</font>**:  Which OpenMP scheduling option would best be suited for these pragmas and why?"
   ]
  },
  {
   "cell_type": "markdown",
   "metadata": {},
   "source": [
    "<font color=red>Put the answer to the above question here</font>"
   ]
  },
  {
   "cell_type": "markdown",
   "metadata": {},
   "source": [
    "&#9989; **<font color=red>Question 3.c</font>**:  Explain why we can **_NOT_** use a parallel pragma on the main loop?"
   ]
  },
  {
   "cell_type": "markdown",
   "metadata": {},
   "source": [
    "<font color=red>Put the answer to the above question here</font>"
   ]
  },
  {
   "cell_type": "markdown",
   "metadata": {},
   "source": [
    "&#9989; **<font color=red>Question 3.d</font>**: Modify the above code for the \"find array minimum and maxium\" (near the end of the code) using an OpenMP reduction.  "
   ]
  },
  {
   "cell_type": "markdown",
   "metadata": {},
   "source": [
    "<font color=red>Put the answer to the above question here</font>"
   ]
  },
  {
   "cell_type": "markdown",
   "metadata": {},
   "source": [
    "---\n",
    "<a name=\"Q4\"></a>\n",
    "\n",
    "# Question 4 - (20 points) Multiple Accelerators\n",
    "\n",
    "<img alt=\"Picture of the inside of a computer with multiple GPUS attached\" src=\"https://www.extremetech.com/wp-content/uploads/2020/09/multi-GPU-SLI.jpg\" width=\"60%\">\n",
    "\n",
    "\n",
    "> [Image from extremetech.com](https://www.extremetech.com/gaming/315164-dual-gpu-gaming-gives-up-the-ghost-as-nvidia-ends-sli-support)\n",
    "\n",
    "\n",
    "The GPU enabled nodes on the HPCC have more than one GPU, however, all of the code we developed in this course and most of the example GPU code available online is designed to only work on one GPU.  This is because GPUs do not share their memory and in order to run a kernel on different GPUs we need to copy memory individually to the GPUS which can be tricky.\n",
    "\n",
    "One common solution is to to use a hybrid OpenMP/CUDA program, where every OpenMP CPU is given a GPU.  The following code is a simple template to test how a basic hybrid OpenMP/CUDA program may work:"
   ]
  },
  {
   "cell_type": "markdown",
   "metadata": {},
   "source": [
    "```c\n",
    "#include <stdio.h>\n",
    "#include <omp.h>\n",
    "#define CUDA_CALL(x) {cudaError_t cuda_error__ = (x); if (cuda_error__) printf(\"CUDA error: \" #x \" returned \\\"%s\\\"\\n\", cudaGetErrorString(cuda\n",
    "_error__));}\n",
    "int main(int argc, char **argv) {\n",
    "    int num_gpus,num_cpus;\n",
    "    CUDA_CALL(cudaGetDeviceCount(&num_gpus));\n",
    "    num_cpus = omp_get_max_threads();\n",
    "    printf(\"There is %d cpus and %d gpus available for this job.\\n\", num_cpus, num_gpus);\n",
    "    \n",
    "    #pragma omp parallel shared(num_gpus)\n",
    "    {\n",
    "        int cpu_thread_id = omp_get_thread_num();\n",
    "        if (cpu_thread_id < num_gpus) {\n",
    "            printf(\"Setting up GPU #%d\\n\", cpu_thread_id);\n",
    "            CUDA_CALL(cudaSetDevice(cpu_thread_id));\n",
    "                        \n",
    "            //COPY MEMORY FROM HOST TO THIS CUDA DEVICE\n",
    "                  \n",
    "            //RUN A KERNEL ON THIS CUDA DEVICE        \n",
    "              \n",
    "            //COPY MEMORY FROM THIS CUDA BACK TO HOST\n",
    "            \n",
    "        } else\n",
    "            printf(\"CPU #%d is more than avaliable GPUS\\n\", cpu_thread_id);\n",
    "    }\n",
    "}\n",
    "```"
   ]
  },
  {
   "cell_type": "markdown",
   "metadata": {},
   "source": [
    "&#9989; **<font color=red>Question 4.a</font>**: In your own words, describe what the ```cudaSetDevice``` function is doing in the above code. "
   ]
  },
  {
   "cell_type": "markdown",
   "metadata": {},
   "source": [
    "<font color=red>Put the answer to the above question here</font>"
   ]
  },
  {
   "cell_type": "markdown",
   "metadata": {},
   "source": [
    "The above program was uploaded to the HPCC and we tried to compile it on the ```dev-amd20-v100``` node using the following command:\n",
    "\n",
    "```bash\n",
    "nvcc -fopenmp -o multigpu multigpu.cu\n",
    "```\n",
    "However, the above command returned the following error\n",
    "```bash\n",
    "-bash: nvcc: command not found\n",
    "```"
   ]
  },
  {
   "cell_type": "markdown",
   "metadata": {},
   "source": [
    "&#9989; **<font color=red>Question 4.b</font>**:  What is the source of this \"command not found\" error and how can it be fixed?"
   ]
  },
  {
   "cell_type": "markdown",
   "metadata": {},
   "source": [
    "<font color=red>Put the answer to the above question here</font>"
   ]
  },
  {
   "cell_type": "markdown",
   "metadata": {},
   "source": [
    "Assuming the above error is fixed we tried compiling again but now get the following error:\n",
    "\n",
    "```bash\n",
    "nvcc fatal   : Unknown option 'fopenmp'\n",
    "```"
   ]
  },
  {
   "cell_type": "markdown",
   "metadata": {},
   "source": [
    "&#9989; **<font color=red>Question 4.c</font>**: What is the cause of this second error and how can it be fixed? "
   ]
  },
  {
   "cell_type": "markdown",
   "metadata": {},
   "source": [
    "<font color=red>Put the answer to the above question here</font>"
   ]
  },
  {
   "cell_type": "markdown",
   "metadata": {},
   "source": [
    "Assuming we got the above to compile properly, we ran it on the command line and get the following output (truncated):\n",
    "\n",
    "```\n",
    ">./multigpu \n",
    "There is 48 cpus and 4 gpus available for this job.\n",
    "Setting up GPU #0\n",
    "CPU #9 is more than avaliable GPUS\n",
    "CPU #41 is more than avaliable GPUS\n",
    "CPU #31 is more than avaliable GPUS\n",
    "CPU #22 is more than avaliable GPUS\n",
    "CPU #36 is more than avaliable GPUS\n",
    "CPU #33 is more than avaliable GPUS\n",
    "CPU #40 is more than avaliable GPUS\n",
    "CPU #34 is more than avaliable GPUS\n",
    "CPU #38 is more than avaliable GPUS\n",
    "CPU #4 is more than avaliable GPUS\n",
    "Setting up GPU #3\n",
    "CPU #5 is more than avaliable GPUS\n",
    "...\n",
    "```"
   ]
  },
  {
   "cell_type": "markdown",
   "metadata": {},
   "source": [
    "The above seems good now we want to test it with SLURM using the following job script:\n",
    "```bash\n",
    "#!/bin/bash\n",
    "#SBATCh -N 1\n",
    "#SBATCH -c 3\n",
    "#SBATCH --time=00:01:00\n",
    "#SBATCH --mem=200mb\n",
    "#SBATCH --gres=gpu:3\n",
    "srun ./multigpu\n",
    "```"
   ]
  },
  {
   "cell_type": "markdown",
   "metadata": {},
   "source": [
    "&#9989; **<font color=red>Question 4.d</font>**: What output would be produced by running the above submission script and the provided code?"
   ]
  },
  {
   "cell_type": "markdown",
   "metadata": {},
   "source": [
    "<font color=red>Put the answer to the above question here</font>"
   ]
  },
  {
   "cell_type": "markdown",
   "metadata": {},
   "source": [
    "----\n",
    "<a name=\"Q5\"></a>\n",
    "\n",
    "# Question 5 - (20 points)  Agent Based Economic Simulator\n",
    "\n",
    "\n",
    "<img alt=\"abstract picture of a market graph\" src=\"https://nsiteam.com/social/wp-content/uploads/2020/09/stocks-graph-3-pkvklx.jpg\">\n",
    "\n",
    "> [From NSI website](https://nsiteam.com/navigating-rapids-anticipating-second-and-third-order-effects-system-shocks-and-emergent-trends/)\n",
    "\n",
    "Your research team is designing an agent based model for an economic simulator using MPI.  The overall design includes the following:\n",
    "\n",
    "- The Rank 0 node will be the head node and act as a \"stock ticker\" and bank. At each beginning of each iteration this node will broadcast the current stock prices to the other nodes.  The stock prices is a 1D array integers named ```stocks``` with ```NumStocks``` total stocks.  \n",
    "\n",
    "- The other nodes (rank > 0) will run individual models that read in the stocks and then send their purchase back to Rank 0.  \n",
    "\n",
    "So far the team has designed the following basic pseudocode as a starting point for the program:"
   ]
  },
  {
   "cell_type": "markdown",
   "metadata": {},
   "source": [
    "1. Initialize MPI\n",
    "2. Start Main Loop\n",
    "    - If Rank 0\n",
    "        - Run Stock Model\n",
    "        - Send stocks vector\n",
    "        - Loop over other processors\n",
    "            - Receive and process their purchase\n",
    "    - else\n",
    "        - Receive Stock vectors\n",
    "        - Run Purchase Model\n",
    "        - Send purchase to Bank\n",
    "4. Rank 0 prints final results\n",
    "3. Finalize MPI\n",
    "\n",
    "At this point in the design we want to just think through and debug what would go into the MPI portion of the code and not worry about the models themselves.  As a starting point here is a stubbed out code. "
   ]
  },
  {
   "cell_type": "markdown",
   "metadata": {},
   "source": [
    "```c\n",
    "#include <stdio.h>\n",
    "#include <stdlib.h>\n",
    "#include <mpi.h>\n",
    "int main(int argc, char **argv)\n",
    "{\n",
    "    int stocks[5];\n",
    "    int num_stocks = 5;\n",
    "    \n",
    "    printf(\"hello world\\n\");\n",
    "    \n",
    "    // Initialize MPI\n",
    "    // Start Main Loop\n",
    "    // If Rank 0\n",
    "        // Run Stock Model\n",
    "        // Send stocks vector\n",
    "        // Loop over other processors\n",
    "            // Receive and process their purchase\n",
    "    // else\n",
    "        // Receive Stock vectors\n",
    "        // Run Purchase Model\n",
    "        // Send purchase to Bank\n",
    "    // Rank 0 prints final results\n",
    "    // Finalize MPI\n",
    "}\n",
    "```"
   ]
  },
  {
   "cell_type": "markdown",
   "metadata": {},
   "source": [
    "&#9989; **<font color=red>Question 5.a:</font>** What ```c/c++``` commands should be used to initialize the MPI job? i.e. write a code block for standard MPI initialization. "
   ]
  },
  {
   "cell_type": "markdown",
   "metadata": {},
   "source": [
    "```c\n",
    "Put your answer to the above question here.\n",
    "\n",
    "```"
   ]
  },
  {
   "cell_type": "markdown",
   "metadata": {},
   "source": [
    "&#9989; **<font color=red>Question 5.b:</font>** Write ```c/c++``` code to send from the Rank 0 node the current stocks to each of the other processors.  At the end of your block of code each processor should have a array pointer named ```stocks``` and integer ```num_stocks``` with all the same values.  Just assume that rank 0 already has the```stocks``` and```num_stocks``` initialized. Note, you can send using a loop or a broadcast.  "
   ]
  },
  {
   "cell_type": "markdown",
   "metadata": {},
   "source": [
    "```c\n",
    "Put your answer to the above question here.\n",
    "```"
   ]
  },
  {
   "cell_type": "markdown",
   "metadata": {},
   "source": [
    "&#9989; **<font color=red>Question 5.c:</font>** Assuming the program is named ```market.c``` in your current directory and has no additional linked libraries. What is the command needed to compile the MPI program into an executable named ```market``` (use level 3 compiler optimization)? "
   ]
  },
  {
   "cell_type": "markdown",
   "metadata": {},
   "source": [
    "```bash\n",
    "Put your answer to the above question here.\n",
    "```"
   ]
  },
  {
   "cell_type": "markdown",
   "metadata": {},
   "source": [
    "&#9989; **<font color=red>Question 5.d:</font>** Assume it is 3 months later and the simulation code is finished, is running well and producing results.  Your team typically runs jobs with 100-200 agents/nodes.  Your lead researcher wants to go bigger and faster and asked you if you should switch from MPI to CUDA. Write down two situation; 1) when CUDA would be a better idea as compared to MPI and 2) when you should stick with MPI.  Do your best to explain your reasoning. "
   ]
  },
  {
   "cell_type": "markdown",
   "metadata": {},
   "source": [
    "When you may want to use CUDA: <font color=red>Put the answer here</font>"
   ]
  },
  {
   "cell_type": "markdown",
   "metadata": {},
   "source": [
    "When you want to stick to MPI: <font color=red>Put the answer here</font>"
   ]
  },
  {
   "cell_type": "markdown",
   "metadata": {},
   "source": [
    "---------\n",
    "### Congratulations, you're done with your EXAM\n",
    "\n",
    "Now, you just need to submit this assignment by uploading it to the course <a href=\"https://d2l.msu.edu/\">Desire2Learn</a> web page for today's dropbox.\n",
    "\n",
    "&#9989; **<font color=red>DO THIS:</font>**\n",
    "- Download the Notebook to your desktop with the filename using the format **\"<NETID\\>_Final-Exam.ipynb\"**.  Replace <NETID\\> in the filename with your personal MSU NetID (the stuff that comes before the @ symbol in your msu email address).\n",
    "- Upload the newly renamed notebook to the D2L dropbox. \n"
   ]
  },
  {
   "cell_type": "markdown",
   "metadata": {
    "nbgrader": {
     "grade": false,
     "grade_id": "cell-72afc771eda28306",
     "locked": true,
     "schema_version": 3,
     "solution": false,
     "task": false
    }
   },
   "source": [
    "Written by Dr. Dirk Colbry, Michigan State University\n",
    "<a rel=\"license\" href=\"http://creativecommons.org/licenses/by-nc/4.0/\"><img alt=\"Creative Commons License\" style=\"border-width:0\" src=\"https://i.creativecommons.org/l/by-nc/4.0/88x31.png\" /></a><br />This work is licensed under a <a rel=\"license\" href=\"http://creativecommons.org/licenses/by-nc/4.0/\">Creative Commons Attribution-NonCommercial 4.0 International License</a>."
   ]
  },
  {
   "cell_type": "markdown",
   "metadata": {},
   "source": [
    "----"
   ]
  }
 ],
 "metadata": {
  "kernelspec": {
   "display_name": "Python 3",
   "language": "python",
   "name": "python3"
  },
  "language_info": {
   "codemirror_mode": {
    "name": "ipython",
    "version": 3
   },
   "file_extension": ".py",
   "mimetype": "text/x-python",
   "name": "python",
   "nbconvert_exporter": "python",
   "pygments_lexer": "ipython3",
   "version": "3.7.3"
  }
 },
 "nbformat": 4,
 "nbformat_minor": 1
}
