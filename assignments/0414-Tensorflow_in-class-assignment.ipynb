{
 "cells": [
  {
   "cell_type": "markdown",
   "metadata": {},
   "source": [
    "[Link to this document's Jupyter Notebook](./0414-Tensorflow_in-class-assignment.ipynb)"
   ]
  },
  {
   "cell_type": "markdown",
   "metadata": {},
   "source": [
    "In order to successfully complete this assignment you need to participate both individually and in groups during class.   If you attend class in-person then have one of the instructors check your notebook and sign you out before leaving class on **Wednesday April 14**. If you are attending asynchronously, turn in your assignment using D2L no later than **_11:59pm on Wednesday April 14**. "
   ]
  },
  {
   "cell_type": "markdown",
   "metadata": {},
   "source": [
    "---\n",
    "\n"
   ]
  },
  {
   "cell_type": "markdown",
   "metadata": {},
   "source": [
    "# In-Class Assignment: Tensorflow\n",
    "\n",
    "<img alt=\"Tensorflow Logo\" src=\"https://upload.wikimedia.org/wikipedia/commons/thumb/1/11/TensorFlowLogo.svg/2000px-TensorFlowLogo.svg.png\" width=50%>"
   ]
  },
  {
   "cell_type": "markdown",
   "metadata": {},
   "source": [
    "### Agenda for today's class (70 minutes)\n",
    "\n",
    "\n",
    "1. (20 minutes) [Conda Environments](#Conda-Environments)\n",
    "2. (20 minutes) [Installing Tensorflow](#Installing-Tensorflow)\n",
    "3. (20 minutes) [Testing Tensorflow](#Testing-Tensorflow)\n",
    "4. (10 minutes) [Benchmark Tensorflow](#Benchmark-Tensorflow)\n",
    "\n"
   ]
  },
  {
   "cell_type": "markdown",
   "metadata": {},
   "source": [
    "\n",
    "\n",
    "---\n",
    "<a name=Conda-Environments></a>\n",
    "# 1. Conda Environments\n",
    "\n",
    "\n"
   ]
  },
  {
   "cell_type": "markdown",
   "metadata": {},
   "source": [
    "\n",
    "\n",
    "---\n",
    "<a name=Installing-Tensorflow></a>\n",
    "# 2. Installing Tensorflow\n",
    "\n",
    "\n",
    "Instructions for installing Tensorflow can be found here:\n",
    "\n",
    "https://wiki.hpcc.msu.edu/display/ITH/General+notes+and+installation+via+Python+virtualenv\n",
    "\n",
    "This includes the following instructions to reset the HPC Environment:\n",
    "\n",
    "```bash\n",
    "module purge\n",
    "module load CUDA/10.0.130\n",
    "module load cuDNN/7.5.0.56-CUDA-10.0.130\n",
    "module load GCC/5.4.0-2.26 \n",
    "mocule load OpenMPI/1.10.3\n",
    "module load Python/3.5.2\n",
    "```\n"
   ]
  },
  {
   "cell_type": "markdown",
   "metadata": {},
   "source": [
    "The next step is to make something called a python virtual environment.  If you are not using these, you should, they are cool and help you sandbox module installations:\n",
    "\n",
    "```bash\n",
    "#Setup and activeate a new python vertual enviornment\n",
    "virtualenv -p python3 tf2env\n",
    "export PYDIR=~/tf2env\n",
    "source tf2env/bin/activate\n",
    "```"
   ]
  },
  {
   "cell_type": "markdown",
   "metadata": {},
   "source": [
    "Once we have our new python enviornment set-up we need to install some programs:\n",
    "```bash\n",
    "#Install needed libraries\n",
    "pip3 install --upgrade tensorflow-gpu\n",
    "pip3 install keras\n",
    "```"
   ]
  },
  {
   "cell_type": "markdown",
   "metadata": {},
   "source": [
    "\n",
    "\n",
    "---\n",
    "<a name=Testing-Tensorflow></a>\n",
    "# 3. Testing Tensorflow\n",
    "\n",
    "\n",
    "Lets now try to see if we use the above "
   ]
  },
  {
   "cell_type": "markdown",
   "metadata": {},
   "source": [
    "...and, set some enviornment variables.  \n",
    "\n",
    "```bash\n",
    "module purge\n",
    "module load CUDA/10.0.130\n",
    "module load cuDNN/7.5.0.56-CUDA-10.0.130\n",
    "module load GCC/5.4.0-2.26 OpenMPI/1.10.3\n",
    "module load Python/3.5.2\n",
    "\n",
    "source tf2env/bin/activate\n",
    "```"
   ]
  },
  {
   "cell_type": "markdown",
   "metadata": {},
   "source": [
    "The final step is to see if this thing works:\n",
    "```bash\n",
    "export TENSORFLOWPROGRAM=/opt/software/hpc_examples/examples/Tensorflow/convolutional.py\n",
    "time python $TENSORFLOWPROGRAM \n",
    "```"
   ]
  },
  {
   "cell_type": "markdown",
   "metadata": {},
   "source": [
    "\n",
    "\n",
    "---\n",
    "<a name=Benchmark-Tensorflow></a>\n",
    "# 4. Benchmark Tensorflow\n",
    "\n",
    "\n",
    "Lets now try to see if we use the above to run a few benchmarks."
   ]
  },
  {
   "cell_type": "markdown",
   "metadata": {},
   "source": [
    "\n",
    "\n",
    "-----\n",
    "### Congratulations, we're done!\n",
    "\n",
    "If you attend class in-person then have one of the instructors check your notebook and sign you out before leaving class. If you are attending asynchronously, turn in your assignment using D2L."
   ]
  },
  {
   "cell_type": "markdown",
   "metadata": {},
   "source": [
    "### Course Resources:\n",
    "\n",
    "\n",
    " - [Website](https://msu-cmse-courses.github.io/cmse802-f20-student/)\n",
    " - [ZOOM](https://msu.zoom.us/j/98207034052)\n",
    " - [JargonJar](https://docs.google.com/document/d/1ahg48CCFhRzUL-QIHzlt_KEf1XqsCasFBU4iePHhcug/edit#)\n",
    " - [GIT](https://gitlab.msu.edu/colbrydi/cmse401-s21.git)\n",
    "\n"
   ]
  },
  {
   "cell_type": "markdown",
   "metadata": {},
   "source": [
    "Written by Dr. Dirk Colbry, Michigan State University\n",
    "<a rel=\"license\" href=\"http://creativecommons.org/licenses/by-nc/4.0/\"><img alt=\"Creative Commons License\" style=\"border-width:0\" src=\"https://i.creativecommons.org/l/by-nc/4.0/88x31.png\" /></a><br />This work is licensed under a <a rel=\"license\" href=\"http://creativecommons.org/licenses/by-nc/4.0/\">Creative Commons Attribution-NonCommercial 4.0 International License</a>."
   ]
  },
  {
   "cell_type": "markdown",
   "metadata": {},
   "source": [
    "----"
   ]
  }
 ],
 "metadata": {
  "kernelspec": {
   "display_name": "Python 3",
   "language": "python",
   "name": "python3"
  },
  "language_info": {
   "codemirror_mode": {
    "name": "ipython",
    "version": 3
   },
   "file_extension": ".py",
   "mimetype": "text/x-python",
   "name": "python",
   "nbconvert_exporter": "python",
   "pygments_lexer": "ipython3",
   "version": "3.7.3"
  }
 },
 "nbformat": 4,
 "nbformat_minor": 2
}
