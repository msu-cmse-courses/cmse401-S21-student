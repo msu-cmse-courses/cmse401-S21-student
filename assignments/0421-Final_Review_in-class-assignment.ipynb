{
 "cells": [
  {
   "cell_type": "markdown",
   "metadata": {},
   "source": [
    "[Link to this document's Jupyter Notebook](./0421-Final_Review_in-class-assignment.ipynb)"
   ]
  },
  {
   "cell_type": "markdown",
   "metadata": {},
   "source": [
    "In order to successfully complete this assignment you need to participate both individually and in groups during class.   If you attend class in-person then have one of the instructors check your notebook and sign you out before leaving class on **Wednesday April 21**. If you are attending asynchronously, turn in your assignment using D2L no later than **_11:59pm on Wednesday April 21**. "
   ]
  },
  {
   "cell_type": "markdown",
   "metadata": {},
   "source": [
    "---\n",
    "\n"
   ]
  },
  {
   "cell_type": "markdown",
   "metadata": {},
   "source": [
    "# In-Class Assignment: Final Review\n",
    "\n",
    "<img alt=\"Yet another picture of a server room\" src=\"https://www.csee.umbc.edu/wp-content/uploads/2013/01/google-datacenter-tech-13.jpg\">\n",
    "\n"
   ]
  },
  {
   "cell_type": "markdown",
   "metadata": {},
   "source": [
    "### Agenda for today's class (70 minutes)\n",
    "\n",
    "</p>\n",
    "\n",
    "1. (70 minutes) Midterm Review"
   ]
  },
  {
   "cell_type": "markdown",
   "metadata": {},
   "source": [
    "Here are some files you can use to help you study:\n",
    "\n",
    "\n",
    "* [Spring 2021 Midterm Exam](Example2-Quiz_questions.ipynb)\n",
    "* [Spring 2021 Final Exam](Spring2019-FINAL_Exam.ipynb)"
   ]
  },
  {
   "cell_type": "markdown",
   "metadata": {},
   "source": [
    "---\n",
    "# 1. Final Review \n",
    "\n",
    "Today's class will be open for your questions and comments.  Ask me anything! Here is a summary of the many topics we covered.\n",
    "\n",
    "\n",
    "## HPCC Command Line Interface, Serial  and Pleasantly Parallel Jobs\n",
    "- Logging onto the HPC\n",
    "- Setting your path\n",
    "- Writing a submission script\n",
    "- Reading man and info pages and googling help\n",
    "- Edit a file\n",
    "- Debugging problems\n",
    "- Compiler optimization\n",
    "- Benchmarking code\n",
    "- Using the module system\n",
    "- Tick Trick\n",
    "- Piping information\n",
    "- BASH Block code\n",
    "- File redirection\n",
    "- File permissions\n",
    "- Block memory\n",
    "- Finding commands\n",
    "- Multiple solutions to finding answers"
   ]
  },
  {
   "cell_type": "markdown",
   "metadata": {},
   "source": [
    "## Shared Memory\n",
    "- Basic syntax and debugging for Shared memory parallization (OpenMP)\n",
    "- Compiling OpenMP code\n",
    "- Converting Serial Code to OpenMP Code\n",
    "- Submitting OpenMP Jobs to the HPC\n",
    "- Understanding the strengths and weaknesses of OpenMP \n",
    "\n",
    "\n",
    "## Accelerators \n",
    "- Basic Syntax and debugging for GPU Programming (CUDA)\n",
    "- Compiling CUDA code\n",
    "- Converting Serial Code to CUDA\n",
    "- Submitting CUDA Jobs to the HPC\n",
    "- Understanding the strengths and weaknesses of CUDA \n",
    "- Understanding alternatives to CUDA\n",
    "- Comparing Serial, Shared Memory and GPU solutions\n",
    "\n"
   ]
  },
  {
   "cell_type": "markdown",
   "metadata": {},
   "source": [
    "## Shared Network\n",
    "- Basic Syntax and debugging for distributed Memory Parallization (MPI)\n",
    "- Compiling MPI code\n",
    "- Converting Serial Code to MPI Code\n",
    "- Submitting MPI Jobs to the HPC\n",
    "- Understanding the Strings and weaknesses of MPI\n",
    "- Compare Serial, Shared Memory, Distributed Memory and GPU solutions\n",
    "\n",
    "\n",
    "## Parallel Programming topics\n",
    "- Understanding and fixing Deadlock\n",
    "- Understanding and fixing Race Conditions\n",
    "- Understanding how to calculate speedup and Amdahl's law\n",
    "- Strong vs Weak Scaling\n",
    "- Understanding hybrid jobs\n",
    "- Estimating scaling of a job\n",
    "- Checkpoint / Restart.\n",
    "- Being able to figure out a never seen before parallel program or library\n",
    "- Planning a large scale workflow."
   ]
  },
  {
   "cell_type": "markdown",
   "metadata": {},
   "source": [
    "\n",
    "\n",
    "-----\n",
    "### Congratulations, we're done!\n",
    "\n",
    "If you attend class in-person then have one of the instructors check your notebook and sign you out before leaving class. If you are attending asynchronously, turn in your assignment using D2L."
   ]
  },
  {
   "cell_type": "markdown",
   "metadata": {},
   "source": [
    "### Course Resources:\n",
    "\n",
    "\n",
    " - [Website](https://msu-cmse-courses.github.io/cmse802-f20-student/)\n",
    " - [ZOOM](https://msu.zoom.us/j/98207034052)\n",
    " - [JargonJar](https://docs.google.com/document/d/1ahg48CCFhRzUL-QIHzlt_KEf1XqsCasFBU4iePHhcug/edit#)\n",
    " - [GIT](https://gitlab.msu.edu/colbrydi/cmse401-s21.git)\n",
    "\n"
   ]
  },
  {
   "cell_type": "markdown",
   "metadata": {},
   "source": [
    "Written by Dr. Dirk Colbry, Michigan State University\n",
    "<a rel=\"license\" href=\"http://creativecommons.org/licenses/by-nc/4.0/\"><img alt=\"Creative Commons License\" style=\"border-width:0\" src=\"https://i.creativecommons.org/l/by-nc/4.0/88x31.png\" /></a><br />This work is licensed under a <a rel=\"license\" href=\"http://creativecommons.org/licenses/by-nc/4.0/\">Creative Commons Attribution-NonCommercial 4.0 International License</a>."
   ]
  },
  {
   "cell_type": "markdown",
   "metadata": {},
   "source": [
    "----"
   ]
  }
 ],
 "metadata": {
  "kernelspec": {
   "display_name": "Python 3",
   "language": "python",
   "name": "python3"
  },
  "language_info": {
   "codemirror_mode": {
    "name": "ipython",
    "version": 3
   },
   "file_extension": ".py",
   "mimetype": "text/x-python",
   "name": "python",
   "nbconvert_exporter": "python",
   "pygments_lexer": "ipython3",
   "version": "3.7.3"
  }
 },
 "nbformat": 4,
 "nbformat_minor": 2
}
