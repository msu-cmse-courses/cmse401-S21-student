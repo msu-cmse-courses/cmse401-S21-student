{
 "cells": [
  {
   "cell_type": "markdown",
   "metadata": {},
   "source": [
    "----\n",
    "\n",
    "# CMSE401 Quiz Instructions\n",
    "\n",
    "This quiz is designed to take approximately 20 minutes to complete (you will be given 50 Minutes).  \n",
    "\n",
    "Please read the following instructions before starting the quiz.\n"
   ]
  },
  {
   "cell_type": "markdown",
   "metadata": {},
   "source": [
    "> This is an open Internet quiz.  Feel free to use anything on the Internet with one important exception...\n",
    "> \n",
    "> - **DO NOT** communicate live with other people during the quiz (either verbally or on-line).  The goal here is to find answers to problems as you would in the real world.  \n",
    "> \n",
    "> You will be given **20 minutes** to complete this quiz.  Use your time wisely. \n",
    "> \n",
    "> **HINTS:**\n",
    "> - Neatness and grammar is important.  We will ignore all notes or code we can not read or understand.\n",
    "> - Read the entire quiz from beginning to end before starting.  Not all questions are equal in **points vs. time** so plan your time accordingly.   \n",
    "> - Some of the information provided my be a distraction. Do not assume you need to understand everything written to answer the questions. \n",
    "> - Spaces for answers are provided. Delete the prompting text such as \"Put your answer to the above question here\" and replace it with your answer. Do not leave the prompting text with your answer.\n",
    "> - Do not assume that the answer must be in the same format of the cell provided. Feel free to change the cell formatting (e.g., markdown to code, and vice versa) or add additional cells as needed to provide your answer.\n",
    "> - When a question asks for an answer \"**in your own words**\" it is still okay to search the Internet for the answer as a reminder. *However*, we would like you to do more than cut and paste.  Make the answer your own. \n",
    "> - If you get stuck, try not to leave an answer blank. It is better to include some notes or stub functions so we have an idea about your thinking process so we can give you partial credit.   \n",
    "> - Always provid links to any references you find helpful. \n",
    "> - Feel free to delete the provided check marks (&#9989;) as a way to keep track of which questions you have successfully completed. "
   ]
  },
  {
   "cell_type": "markdown",
   "metadata": {},
   "source": [
    "> **Honor Code**\n",
    "> \n",
    "> I, agree to neither give nor receive any help on this quiz from other people.  I also understand that providing answers to questions on this quiz to other students is also an academic misconduct violation as is live communication or receiving answers to questions on this quiz from other people. It is important to me to be a person of integrity and that means that ALL ANSWERS on this quiz are my answers.\n",
    "> \n",
    "> &#9989; **<font color=red>DO THIS:</font>** Include your name in the line below to acknowledge the above statement:"
   ]
  },
  {
   "cell_type": "markdown",
   "metadata": {},
   "source": [
    "Put your name here."
   ]
  },
  {
   "cell_type": "markdown",
   "metadata": {},
   "source": [
    "---\n",
    "\n",
    "# Quiz 3 -  CUDA\n",
    "\n",
    "<img src=\"https://www.bogotobogo.com/Matlab/images/ImageProcessing_6_Low_Pass_Filter/disk_filter.png\" width=\"65%\">\n",
    "\n",
    "Consider the following code snip-it similar to the Average Filter loop from Homework 2.  \n",
    "\n",
    "```c++\n",
    "\n",
    "int nBytes = sz.width*sz.height*channels*sizeof(char));\n",
    "char * s_img = (char *) malloc(nBytes); # Source Image\n",
    "char * o_img = (char *) malloc(nBytes); # Output Image\n",
    "\n",
    "//make 2D pointer arrays from 1D image arrays\n",
    "char **img = malloc(sz.height * sizeof(char*));\n",
    "for (int r=0; r<sz.height; r++)\n",
    "        img[r] = &s_img[r*sz.width];\n",
    "char **output = malloc(sz.height * sizeof(char*));\n",
    "for (int r=0; r<sz.height; r++)\n",
    "        output[r] = &o_img[r*sz.width];\n",
    "\n",
    "//average filter\n",
    "for(int c=0;c<sz.width;c++) \n",
    "    for(int r=0;r<sz.height;r++)\n",
    "    {\n",
    "        double count = 0;\n",
    "        double tot = 0;\n",
    "        for(int cw=max(0,c-halfwindow); cw<min(sz.width,c+halfwindow+1); cw++)\n",
    "            for(int rw=max(0,r-halfwindow); rw<min(sz.height,r+halfwindow+1); rw++)\n",
    "            {\n",
    "                count++;\n",
    "                tot += (double) img[rw][cw];\n",
    "            }\n",
    "        output[r][c] = (int) (tot/count);\n",
    "    }\n",
    "```"
   ]
  },
  {
   "cell_type": "markdown",
   "metadata": {},
   "source": [
    "The following is an attempt to replace the above loop with a CUDA kernel function:\n",
    "\n",
    "```c++\n",
    "\n",
    "__global__ void average_im( char * img_d, \n",
    "                            char * output_d, \n",
    "                            int sz_width, \n",
    "                            int sz_height, \n",
    "                            int halfwindow) {\n",
    "\n",
    "    int c = blockIdx.x * blockDim.x + threadIdx.x;\n",
    "    int r = blockIdx.y * blockDim.y + threadIdx.y;\n",
    "    int i = r*sz_width+c;\n",
    "    \n",
    "    if (c < sz_width && r < sz_height) \n",
    "    {\n",
    "        int count = 0;\n",
    "        int tot = 0;\n",
    "        int c_start = fmax(0,c-halfwindow);\n",
    "        int c_stop = fmin(sz_width,c+halfwindow+1);\n",
    "        int r_start = fmax(0,r-halfwindow);\n",
    "        int r_stop = fmin(sz_height,r+halfwindow+1);\n",
    "        for(int cw=c_start; cw<c_stop; cw++)\n",
    "            for(int rw=r_start; rw<r_stop; rw++)\n",
    "            {\n",
    "                count++;\n",
    "                tot += img_d[i];\n",
    "            }\n",
    "        output_d[i] = (int) (tot/count);\n",
    "    }\n",
    "}\n",
    "```"
   ]
  },
  {
   "cell_type": "markdown",
   "metadata": {},
   "source": [
    "&#9989; **<font color=red>Question 1</font>**:  (5 points) Assuming the above CUDA function compiles properly, the function can be called using the following lines of code:\n",
    "\n",
    "```c++\n",
    "average_im<<<numBlocks, numThreads>>>(img_d,output_d,sz.width,sz.height, halfwindow)\n",
    "    \n",
    "cudaError_t err = cudaGetLastError();\n",
    "if (err != cudaSuccess) {\n",
    "    fprintf(stderr, \"\\n\\nError: %s\\n\\n\", cudaGetErrorString(err)); fflush(stderr); exit(err);   \n",
    "}\n",
    "```\n",
    "\n",
    "Write the lines of code needed to declare ```numBLocks``` and ```numThreads``` before making the above call.  Make sure that there are an equal number of threads in the x and y direction of the block and that the block uses the maximum number of threads. "
   ]
  },
  {
   "cell_type": "raw",
   "metadata": {},
   "source": [
    "Put the answer to the above question here"
   ]
  },
  {
   "cell_type": "markdown",
   "metadata": {},
   "source": [
    "&#9989; **<font color=red>Question 2</font>:**   (5 points) Now, go back and write the code needed to allocate the space for ```img_d``` and ```output_d``` on the GPU. You can  assume the ```CUDA_CALL``` macro we used in class is already defined."
   ]
  },
  {
   "cell_type": "raw",
   "metadata": {},
   "source": [
    "Put your answer to the above question here"
   ]
  },
  {
   "cell_type": "markdown",
   "metadata": {},
   "source": [
    "&#9989; **<font color=red>Question 3</font>:**  (5 points)  Write the command to copy the image file from the host to the gpu device and into the ```img_d``` variable. You can still assume the ```CUDA_CALL``` macro we used in class is already defined."
   ]
  },
  {
   "cell_type": "raw",
   "metadata": {},
   "source": [
    "Put your answer to the above question here"
   ]
  },
  {
   "cell_type": "markdown",
   "metadata": {},
   "source": [
    "&#9989; <font color=red>**Question 4**</font>: (5 points)  This kernel function could benefit from shared memory tiling. Identify the data you would need to copy to shared memory to implement tiling. Write the line of code that you would need to add to the above function to declare the local variable(s) in shared memory?  (**HINT**: Do not implement shared memory tiling, I just want to see if you understand which data you would use and the syntax for declaring the variable to be shared by a block of threads).  "
   ]
  },
  {
   "cell_type": "markdown",
   "metadata": {},
   "source": [
    "Put your answer to the above question here"
   ]
  },
  {
   "cell_type": "markdown",
   "metadata": {},
   "source": [
    "&#9989; <font color=red>**Question 5**</font>:  (5 points) Assume that the above functions are part of a larger program that called ```mybigGPUproject``` and can be run on a development node using the following commands:\n",
    "\n",
    "    module load CUDA\n",
    "    ./mybigGPUproject\n",
    "\n",
    "Write a HPCC submission script to submit this GPU job to the scheduler.  It will need to run for 3 hours and require 5gb of RAM and 1 GPU.  (HINT: Make sure you use ```srun``` to allow SLURM to manage which GPU the job will get assigned). "
   ]
  },
  {
   "cell_type": "raw",
   "metadata": {},
   "source": [
    "Put the answer to the above question here"
   ]
  },
  {
   "cell_type": "markdown",
   "metadata": {},
   "source": [
    "---------\n",
    "### Congratulations, you're done with your EXAM\n",
    "\n",
    "Now, you just need to submit this assignment by uploading it to the course <a href=\"https://d2l.msu.edu/\">Desire2Learn</a> web page for today's dropbox.\n",
    "\n",
    "&#9989; **<font color=red>DO THIS:</font>**\n",
    "- Download the Notebook to your desktop with the filename using the format **\"<NETID\\>_Midterm-Exam.ipynb\"**.  Replace <NETID\\> in the filename with your personal MSU NetID (the stuff that comes before the @ symbol in your msu email address).\n",
    "- Upload the newly renamed notebook to the D2L dropbox. \n"
   ]
  },
  {
   "cell_type": "markdown",
   "metadata": {},
   "source": [
    "# Congratulations\n",
    "\n",
    "You are done with your quiz. Please save the file and upload the jupyter notebook to the D2L dropbox. Send a message to your Instructor though the zoom chat and let him know you are done and wait until you are excused.  "
   ]
  },
  {
   "cell_type": "markdown",
   "metadata": {
    "nbgrader": {
     "grade": false,
     "grade_id": "cell-72afc771eda28306",
     "locked": true,
     "schema_version": 3,
     "solution": false,
     "task": false
    }
   },
   "source": [
    "Written by Dr. Dirk Colbry, Michigan State University\n",
    "<a rel=\"license\" href=\"http://creativecommons.org/licenses/by-nc/4.0/\"><img alt=\"Creative Commons License\" style=\"border-width:0\" src=\"https://i.creativecommons.org/l/by-nc/4.0/88x31.png\" /></a><br />This work is licensed under a <a rel=\"license\" href=\"http://creativecommons.org/licenses/by-nc/4.0/\">Creative Commons Attribution-NonCommercial 4.0 International License</a>."
   ]
  },
  {
   "cell_type": "markdown",
   "metadata": {},
   "source": [
    "----"
   ]
  }
 ],
 "metadata": {
  "kernelspec": {
   "display_name": "Python 3",
   "language": "python",
   "name": "python3"
  },
  "language_info": {
   "codemirror_mode": {
    "name": "ipython",
    "version": 3
   },
   "file_extension": ".py",
   "mimetype": "text/x-python",
   "name": "python",
   "nbconvert_exporter": "python",
   "pygments_lexer": "ipython3",
   "version": "3.7.3"
  }
 },
 "nbformat": 4,
 "nbformat_minor": 1
}
